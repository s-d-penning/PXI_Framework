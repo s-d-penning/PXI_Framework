{
 "cells": [
  {
   "cell_type": "code",
   "id": "initial_id",
   "metadata": {
    "collapsed": true,
    "ExecuteTime": {
     "end_time": "2024-08-23T22:16:46.570325Z",
     "start_time": "2024-08-23T22:16:42.386857Z"
    }
   },
   "source": [
    "import numpy as np\n",
    "import pandas as pd\n",
    "import statsmodels.api as sm\n",
    "import statsmodels.formula.api as smf"
   ],
   "outputs": [],
   "execution_count": 1
  },
  {
   "metadata": {
    "ExecuteTime": {
     "end_time": "2024-08-23T22:16:46.596796Z",
     "start_time": "2024-08-23T22:16:46.570325Z"
    }
   },
   "cell_type": "code",
   "source": [
    "shunt_vci_csv_path = '../data/shunt_vci.csv'\n",
    "shunt_vci_df = pd.read_csv(shunt_vci_csv_path, sep=',', header=0, index_col=0,dtype={'KeithleyVoltage': np.float64})\n",
    "shunt_vci_df.head()"
   ],
   "id": "a71a97001803ec5",
   "outputs": [
    {
     "data": {
      "text/plain": [
       "       psuCurrent  vc97Current  KeithleyVoltage\n",
       "index                                          \n",
       "1            0.10        0.098         0.004160\n",
       "2            0.21        0.211         0.009006\n",
       "3            0.31        0.302         0.012873\n",
       "4            0.40        0.394         0.016774\n",
       "5            0.51        0.508         0.021580"
      ],
      "text/html": [
       "<div>\n",
       "<style scoped>\n",
       "    .dataframe tbody tr th:only-of-type {\n",
       "        vertical-align: middle;\n",
       "    }\n",
       "\n",
       "    .dataframe tbody tr th {\n",
       "        vertical-align: top;\n",
       "    }\n",
       "\n",
       "    .dataframe thead th {\n",
       "        text-align: right;\n",
       "    }\n",
       "</style>\n",
       "<table border=\"1\" class=\"dataframe\">\n",
       "  <thead>\n",
       "    <tr style=\"text-align: right;\">\n",
       "      <th></th>\n",
       "      <th>psuCurrent</th>\n",
       "      <th>vc97Current</th>\n",
       "      <th>KeithleyVoltage</th>\n",
       "    </tr>\n",
       "    <tr>\n",
       "      <th>index</th>\n",
       "      <th></th>\n",
       "      <th></th>\n",
       "      <th></th>\n",
       "    </tr>\n",
       "  </thead>\n",
       "  <tbody>\n",
       "    <tr>\n",
       "      <th>1</th>\n",
       "      <td>0.10</td>\n",
       "      <td>0.098</td>\n",
       "      <td>0.004160</td>\n",
       "    </tr>\n",
       "    <tr>\n",
       "      <th>2</th>\n",
       "      <td>0.21</td>\n",
       "      <td>0.211</td>\n",
       "      <td>0.009006</td>\n",
       "    </tr>\n",
       "    <tr>\n",
       "      <th>3</th>\n",
       "      <td>0.31</td>\n",
       "      <td>0.302</td>\n",
       "      <td>0.012873</td>\n",
       "    </tr>\n",
       "    <tr>\n",
       "      <th>4</th>\n",
       "      <td>0.40</td>\n",
       "      <td>0.394</td>\n",
       "      <td>0.016774</td>\n",
       "    </tr>\n",
       "    <tr>\n",
       "      <th>5</th>\n",
       "      <td>0.51</td>\n",
       "      <td>0.508</td>\n",
       "      <td>0.021580</td>\n",
       "    </tr>\n",
       "  </tbody>\n",
       "</table>\n",
       "</div>"
      ]
     },
     "execution_count": 2,
     "metadata": {},
     "output_type": "execute_result"
    }
   ],
   "execution_count": 2
  },
  {
   "metadata": {
    "ExecuteTime": {
     "end_time": "2024-08-23T22:16:46.605646Z",
     "start_time": "2024-08-23T22:16:46.596796Z"
    }
   },
   "cell_type": "code",
   "source": [
    "type(shunt_vci_df[\"vc97Current\"])\n",
    "df = shunt_vci_df[[ \"vc97Current\", \"KeithleyVoltage\" ]]"
   ],
   "id": "24d051703024ec82",
   "outputs": [],
   "execution_count": 3
  },
  {
   "metadata": {
    "ExecuteTime": {
     "end_time": "2024-08-23T22:16:46.621126Z",
     "start_time": "2024-08-23T22:16:46.605646Z"
    }
   },
   "cell_type": "code",
   "source": "mod = smf.ols(formula='KeithleyVoltage ~ vc97Current -1', data=df)",
   "id": "f50ab1e79a1c26a0",
   "outputs": [],
   "execution_count": 4
  },
  {
   "metadata": {
    "ExecuteTime": {
     "end_time": "2024-08-23T22:16:46.630232Z",
     "start_time": "2024-08-23T22:16:46.621126Z"
    }
   },
   "cell_type": "code",
   "source": "res = mod.fit()",
   "id": "331f841297a06560",
   "outputs": [],
   "execution_count": 5
  },
  {
   "metadata": {
    "ExecuteTime": {
     "end_time": "2024-08-23T22:16:46.646158Z",
     "start_time": "2024-08-23T22:16:46.630232Z"
    }
   },
   "cell_type": "code",
   "source": "print(res.summary())",
   "id": "cb91a187d7ff6c69",
   "outputs": [
    {
     "name": "stdout",
     "output_type": "stream",
     "text": [
      "                                 OLS Regression Results                                \n",
      "=======================================================================================\n",
      "Dep. Variable:        KeithleyVoltage   R-squared (uncentered):                   1.000\n",
      "Model:                            OLS   Adj. R-squared (uncentered):              1.000\n",
      "Method:                 Least Squares   F-statistic:                          6.870e+05\n",
      "Date:                Sat, 24 Aug 2024   Prob (F-statistic):                    6.24e-69\n",
      "Time:                        10:16:46   Log-Likelihood:                          195.01\n",
      "No. Observations:                  32   AIC:                                     -388.0\n",
      "Df Residuals:                      31   BIC:                                     -386.6\n",
      "Df Model:                           1                                                  \n",
      "Covariance Type:            nonrobust                                                  \n",
      "===============================================================================\n",
      "                  coef    std err          t      P>|t|      [0.025      0.975]\n",
      "-------------------------------------------------------------------------------\n",
      "vc97Current     0.0431    5.2e-05    828.878      0.000       0.043       0.043\n",
      "==============================================================================\n",
      "Omnibus:                       13.883   Durbin-Watson:                   0.040\n",
      "Prob(Omnibus):                  0.001   Jarque-Bera (JB):               13.928\n",
      "Skew:                           1.479   Prob(JB):                     0.000945\n",
      "Kurtosis:                       4.302   Cond. No.                         1.00\n",
      "==============================================================================\n",
      "\n",
      "Notes:\n",
      "[1] R² is computed without centering (uncentered) since the model does not contain a constant.\n",
      "[2] Standard Errors assume that the covariance matrix of the errors is correctly specified.\n"
     ]
    }
   ],
   "execution_count": 6
  }
 ],
 "metadata": {
  "kernelspec": {
   "display_name": "Python 3",
   "language": "python",
   "name": "python3"
  },
  "language_info": {
   "codemirror_mode": {
    "name": "ipython",
    "version": 2
   },
   "file_extension": ".py",
   "mimetype": "text/x-python",
   "name": "python",
   "nbconvert_exporter": "python",
   "pygments_lexer": "ipython2",
   "version": "2.7.6"
  }
 },
 "nbformat": 4,
 "nbformat_minor": 5
}
