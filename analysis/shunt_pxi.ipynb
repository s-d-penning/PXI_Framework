{
 "cells": [
  {
   "cell_type": "code",
   "id": "initial_id",
   "metadata": {
    "collapsed": true,
    "ExecuteTime": {
     "end_time": "2024-08-23T22:46:48.473034Z",
     "start_time": "2024-08-23T22:46:46.429841Z"
    }
   },
   "source": [
    "import numpy as np\n",
    "import pandas as pd\n",
    "import statsmodels.api as sm\n",
    "import statsmodels.formula.api as smf\n",
    "import matplotlib.pyplot as plt"
   ],
   "outputs": [],
   "execution_count": 2
  },
  {
   "metadata": {
    "ExecuteTime": {
     "end_time": "2024-08-23T22:49:34.705995Z",
     "start_time": "2024-08-23T22:49:34.678199Z"
    }
   },
   "cell_type": "code",
   "source": [
    "shunt_pxi_csv_path = '../data/shunt_pxi.csv'\n",
    "shunt_pxi_df = pd.read_csv(shunt_pxi_csv_path, sep=',', header=0, dtype={'keithley_195A_mV': np.float64})\n",
    "shunt_pxi_df.head()"
   ],
   "id": "b64aedf9fc68b272",
   "outputs": [
    {
     "data": {
      "text/plain": [
       "   spd3303c_current_A  psx_4110_mA  keithley_195A_mV\n",
       "0                 0.1       100.90              4.29\n",
       "1                 0.2       198.80              8.45\n",
       "2                 0.3       296.30             12.60\n",
       "3                 0.4       402.25             17.02\n",
       "4                 0.5       498.70             21.09"
      ],
      "text/html": [
       "<div>\n",
       "<style scoped>\n",
       "    .dataframe tbody tr th:only-of-type {\n",
       "        vertical-align: middle;\n",
       "    }\n",
       "\n",
       "    .dataframe tbody tr th {\n",
       "        vertical-align: top;\n",
       "    }\n",
       "\n",
       "    .dataframe thead th {\n",
       "        text-align: right;\n",
       "    }\n",
       "</style>\n",
       "<table border=\"1\" class=\"dataframe\">\n",
       "  <thead>\n",
       "    <tr style=\"text-align: right;\">\n",
       "      <th></th>\n",
       "      <th>spd3303c_current_A</th>\n",
       "      <th>psx_4110_mA</th>\n",
       "      <th>keithley_195A_mV</th>\n",
       "    </tr>\n",
       "  </thead>\n",
       "  <tbody>\n",
       "    <tr>\n",
       "      <th>0</th>\n",
       "      <td>0.1</td>\n",
       "      <td>100.90</td>\n",
       "      <td>4.29</td>\n",
       "    </tr>\n",
       "    <tr>\n",
       "      <th>1</th>\n",
       "      <td>0.2</td>\n",
       "      <td>198.80</td>\n",
       "      <td>8.45</td>\n",
       "    </tr>\n",
       "    <tr>\n",
       "      <th>2</th>\n",
       "      <td>0.3</td>\n",
       "      <td>296.30</td>\n",
       "      <td>12.60</td>\n",
       "    </tr>\n",
       "    <tr>\n",
       "      <th>3</th>\n",
       "      <td>0.4</td>\n",
       "      <td>402.25</td>\n",
       "      <td>17.02</td>\n",
       "    </tr>\n",
       "    <tr>\n",
       "      <th>4</th>\n",
       "      <td>0.5</td>\n",
       "      <td>498.70</td>\n",
       "      <td>21.09</td>\n",
       "    </tr>\n",
       "  </tbody>\n",
       "</table>\n",
       "</div>"
      ]
     },
     "execution_count": 4,
     "metadata": {},
     "output_type": "execute_result"
    }
   ],
   "execution_count": 4
  },
  {
   "metadata": {
    "ExecuteTime": {
     "end_time": "2024-08-23T22:49:38.723043Z",
     "start_time": "2024-08-23T22:49:38.703036Z"
    }
   },
   "cell_type": "code",
   "source": [
    "shunt_pxi_df['voltage']=shunt_pxi_df['keithley_195A_mV']/1000\n",
    "shunt_pxi_df['current']=shunt_pxi_df['psx_4110_mA']/1000\n",
    "shunt_pxi_df.head()"
   ],
   "id": "27f04c552b9ea03b",
   "outputs": [
    {
     "data": {
      "text/plain": [
       "   spd3303c_current_A  psx_4110_mA  keithley_195A_mV  voltage  current\n",
       "0                 0.1       100.90              4.29  0.00429  0.10090\n",
       "1                 0.2       198.80              8.45  0.00845  0.19880\n",
       "2                 0.3       296.30             12.60  0.01260  0.29630\n",
       "3                 0.4       402.25             17.02  0.01702  0.40225\n",
       "4                 0.5       498.70             21.09  0.02109  0.49870"
      ],
      "text/html": [
       "<div>\n",
       "<style scoped>\n",
       "    .dataframe tbody tr th:only-of-type {\n",
       "        vertical-align: middle;\n",
       "    }\n",
       "\n",
       "    .dataframe tbody tr th {\n",
       "        vertical-align: top;\n",
       "    }\n",
       "\n",
       "    .dataframe thead th {\n",
       "        text-align: right;\n",
       "    }\n",
       "</style>\n",
       "<table border=\"1\" class=\"dataframe\">\n",
       "  <thead>\n",
       "    <tr style=\"text-align: right;\">\n",
       "      <th></th>\n",
       "      <th>spd3303c_current_A</th>\n",
       "      <th>psx_4110_mA</th>\n",
       "      <th>keithley_195A_mV</th>\n",
       "      <th>voltage</th>\n",
       "      <th>current</th>\n",
       "    </tr>\n",
       "  </thead>\n",
       "  <tbody>\n",
       "    <tr>\n",
       "      <th>0</th>\n",
       "      <td>0.1</td>\n",
       "      <td>100.90</td>\n",
       "      <td>4.29</td>\n",
       "      <td>0.00429</td>\n",
       "      <td>0.10090</td>\n",
       "    </tr>\n",
       "    <tr>\n",
       "      <th>1</th>\n",
       "      <td>0.2</td>\n",
       "      <td>198.80</td>\n",
       "      <td>8.45</td>\n",
       "      <td>0.00845</td>\n",
       "      <td>0.19880</td>\n",
       "    </tr>\n",
       "    <tr>\n",
       "      <th>2</th>\n",
       "      <td>0.3</td>\n",
       "      <td>296.30</td>\n",
       "      <td>12.60</td>\n",
       "      <td>0.01260</td>\n",
       "      <td>0.29630</td>\n",
       "    </tr>\n",
       "    <tr>\n",
       "      <th>3</th>\n",
       "      <td>0.4</td>\n",
       "      <td>402.25</td>\n",
       "      <td>17.02</td>\n",
       "      <td>0.01702</td>\n",
       "      <td>0.40225</td>\n",
       "    </tr>\n",
       "    <tr>\n",
       "      <th>4</th>\n",
       "      <td>0.5</td>\n",
       "      <td>498.70</td>\n",
       "      <td>21.09</td>\n",
       "      <td>0.02109</td>\n",
       "      <td>0.49870</td>\n",
       "    </tr>\n",
       "  </tbody>\n",
       "</table>\n",
       "</div>"
      ]
     },
     "execution_count": 5,
     "metadata": {},
     "output_type": "execute_result"
    }
   ],
   "execution_count": 5
  },
  {
   "metadata": {
    "ExecuteTime": {
     "end_time": "2024-08-23T22:54:56.894631Z",
     "start_time": "2024-08-23T22:54:56.878204Z"
    }
   },
   "cell_type": "code",
   "source": "shunt_model = smf.ols(formula='voltage ~ current -1', data=shunt_pxi_df)",
   "id": "7c6203d351e00381",
   "outputs": [],
   "execution_count": 10
  },
  {
   "metadata": {
    "ExecuteTime": {
     "end_time": "2024-08-23T22:54:59.599615Z",
     "start_time": "2024-08-23T22:54:59.579616Z"
    }
   },
   "cell_type": "code",
   "source": [
    "res = shunt_model.fit()\n",
    "print(res.summary())"
   ],
   "id": "2ebcdb5752893125",
   "outputs": [
    {
     "name": "stdout",
     "output_type": "stream",
     "text": [
      "                                 OLS Regression Results                                \n",
      "=======================================================================================\n",
      "Dep. Variable:                voltage   R-squared (uncentered):                   1.000\n",
      "Model:                            OLS   Adj. R-squared (uncentered):              1.000\n",
      "Method:                 Least Squares   F-statistic:                          3.445e+05\n",
      "Date:                Sat, 24 Aug 2024   Prob (F-statistic):                    6.34e-42\n",
      "Time:                        10:54:59   Log-Likelihood:                          129.17\n",
      "No. Observations:                  20   AIC:                                     -256.3\n",
      "Df Residuals:                      19   BIC:                                     -255.3\n",
      "Df Model:                           1                                                  \n",
      "Covariance Type:            nonrobust                                                  \n",
      "==============================================================================\n",
      "                 coef    std err          t      P>|t|      [0.025      0.975]\n",
      "------------------------------------------------------------------------------\n",
      "current        0.0426   7.27e-05    586.917      0.000       0.042       0.043\n",
      "==============================================================================\n",
      "Omnibus:                       43.259   Durbin-Watson:                   2.320\n",
      "Prob(Omnibus):                  0.000   Jarque-Bera (JB):              146.360\n",
      "Skew:                           3.443   Prob(JB):                     1.65e-32\n",
      "Kurtosis:                      14.323   Cond. No.                         1.00\n",
      "==============================================================================\n",
      "\n",
      "Notes:\n",
      "[1] R² is computed without centering (uncentered) since the model does not contain a constant.\n",
      "[2] Standard Errors assume that the covariance matrix of the errors is correctly specified.\n"
     ]
    }
   ],
   "execution_count": 11
  },
  {
   "metadata": {
    "ExecuteTime": {
     "end_time": "2024-08-23T22:55:09.319033Z",
     "start_time": "2024-08-23T22:55:09.139444Z"
    }
   },
   "cell_type": "code",
   "source": [
    "fig, ax = plt.subplots()\n",
    "ax.scatter(shunt_pxi_df['voltage'], shunt_pxi_df['current'])"
   ],
   "id": "8d26dfd95f3f5ad9",
   "outputs": [
    {
     "data": {
      "text/plain": [
       "<matplotlib.collections.PathCollection at 0x16bcda7d220>"
      ]
     },
     "execution_count": 12,
     "metadata": {},
     "output_type": "execute_result"
    },
    {
     "data": {
      "text/plain": [
       "<Figure size 640x480 with 1 Axes>"
      ],
      "image/png": "[encoded data removed]"
     },
     "metadata": {},
     "output_type": "display_data"
    }
   ],
   "execution_count": 12
  },
  {
   "metadata": {
    "ExecuteTime": {
     "end_time": "2024-08-23T23:02:15.194404Z",
     "start_time": "2024-08-23T23:02:15.174381Z"
    }
   },
   "cell_type": "code",
   "source": "",
   "id": "92b8294e5de4797c",
   "outputs": [
    {
     "ename": "TypeError",
     "evalue": "plot_regress_exog() missing 1 required positional argument: 'exog_idx'",
     "output_type": "error",
     "traceback": [
      "\u001B[1;31m---------------------------------------------------------------------------\u001B[0m",
      "\u001B[1;31mTypeError\u001B[0m                                 Traceback (most recent call last)",
      "Cell \u001B[1;32mIn[19], line 1\u001B[0m\n\u001B[1;32m----> 1\u001B[0m fig \u001B[38;5;241m=\u001B[39m \u001B[43msm\u001B[49m\u001B[38;5;241;43m.\u001B[39;49m\u001B[43mgraphics\u001B[49m\u001B[38;5;241;43m.\u001B[39;49m\u001B[43mplot_regress_exog\u001B[49m\u001B[43m(\u001B[49m\u001B[43mshunt_model\u001B[49m\u001B[43m)\u001B[49m\n",
      "\u001B[1;31mTypeError\u001B[0m: plot_regress_exog() missing 1 required positional argument: 'exog_idx'"
     ]
    }
   ],
   "execution_count": 19
  }
 ],
 "metadata": {
  "kernelspec": {
   "display_name": "Python 3",
   "language": "python",
   "name": "python3"
  },
  "language_info": {
   "codemirror_mode": {
    "name": "ipython",
    "version": 2
   },
   "file_extension": ".py",
   "mimetype": "text/x-python",
   "name": "python",
   "nbconvert_exporter": "python",
   "pygments_lexer": "ipython2",
   "version": "2.7.6"
  }
 },
 "nbformat": 4,
 "nbformat_minor": 5
}
