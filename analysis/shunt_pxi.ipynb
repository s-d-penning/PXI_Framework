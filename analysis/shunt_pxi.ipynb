{
 "cells": [
  {
   "cell_type": "code",
   "id": "initial_id",
   "metadata": {
    "collapsed": true,
    "ExecuteTime": {
     "end_time": "2024-08-23T22:17:28.085207Z",
     "start_time": "2024-08-23T22:17:28.076265Z"
    }
   },
   "source": [
    "import numpy as np\n",
    "import pandas as pd\n",
    "import statsmodels.api as sm\n",
    "import statsmodels.formula.api as smf"
   ],
   "outputs": [],
   "execution_count": 17
  },
  {
   "metadata": {
    "ExecuteTime": {
     "end_time": "2024-08-23T22:17:28.101231Z",
     "start_time": "2024-08-23T22:17:28.085207Z"
    }
   },
   "cell_type": "code",
   "source": [
    "shunt_pxi_csv_path = '../data/shunt_pxi.csv'\n",
    "shunt_pxi_df = pd.read_csv(shunt_pxi_csv_path, sep=',', header=0, dtype={'keithley_195A_mV': np.float64})\n",
    "shunt_pxi_df.head()"
   ],
   "id": "b64aedf9fc68b272",
   "outputs": [
    {
     "data": {
      "text/plain": [
       "   spd3303c_current_A  psx_4110_mA  keithley_195A_mV\n",
       "0                 0.1       100.90              4.29\n",
       "1                 0.2       198.80              8.45\n",
       "2                 0.3       296.30             12.60\n",
       "3                 0.4       402.25             17.02\n",
       "4                 0.5       498.70             21.09"
      ],
      "text/html": [
       "<div>\n",
       "<style scoped>\n",
       "    .dataframe tbody tr th:only-of-type {\n",
       "        vertical-align: middle;\n",
       "    }\n",
       "\n",
       "    .dataframe tbody tr th {\n",
       "        vertical-align: top;\n",
       "    }\n",
       "\n",
       "    .dataframe thead th {\n",
       "        text-align: right;\n",
       "    }\n",
       "</style>\n",
       "<table border=\"1\" class=\"dataframe\">\n",
       "  <thead>\n",
       "    <tr style=\"text-align: right;\">\n",
       "      <th></th>\n",
       "      <th>spd3303c_current_A</th>\n",
       "      <th>psx_4110_mA</th>\n",
       "      <th>keithley_195A_mV</th>\n",
       "    </tr>\n",
       "  </thead>\n",
       "  <tbody>\n",
       "    <tr>\n",
       "      <th>0</th>\n",
       "      <td>0.1</td>\n",
       "      <td>100.90</td>\n",
       "      <td>4.29</td>\n",
       "    </tr>\n",
       "    <tr>\n",
       "      <th>1</th>\n",
       "      <td>0.2</td>\n",
       "      <td>198.80</td>\n",
       "      <td>8.45</td>\n",
       "    </tr>\n",
       "    <tr>\n",
       "      <th>2</th>\n",
       "      <td>0.3</td>\n",
       "      <td>296.30</td>\n",
       "      <td>12.60</td>\n",
       "    </tr>\n",
       "    <tr>\n",
       "      <th>3</th>\n",
       "      <td>0.4</td>\n",
       "      <td>402.25</td>\n",
       "      <td>17.02</td>\n",
       "    </tr>\n",
       "    <tr>\n",
       "      <th>4</th>\n",
       "      <td>0.5</td>\n",
       "      <td>498.70</td>\n",
       "      <td>21.09</td>\n",
       "    </tr>\n",
       "  </tbody>\n",
       "</table>\n",
       "</div>"
      ]
     },
     "execution_count": 18,
     "metadata": {},
     "output_type": "execute_result"
    }
   ],
   "execution_count": 18
  },
  {
   "metadata": {
    "ExecuteTime": {
     "end_time": "2024-08-23T22:17:28.116172Z",
     "start_time": "2024-08-23T22:17:28.101231Z"
    }
   },
   "cell_type": "code",
   "source": [
    "shunt_pxi_df['keithley_195A_mV']=shunt_pxi_df['keithley_195A_mV']/1000\n",
    "shunt_pxi_df['psx_4110_mA']=shunt_pxi_df['psx_4110_mA']/1000\n",
    "shunt_pxi_df.head()"
   ],
   "id": "27f04c552b9ea03b",
   "outputs": [
    {
     "data": {
      "text/plain": [
       "   spd3303c_current_A  psx_4110_mA  keithley_195A_mV\n",
       "0                 0.1      0.10090           0.00429\n",
       "1                 0.2      0.19880           0.00845\n",
       "2                 0.3      0.29630           0.01260\n",
       "3                 0.4      0.40225           0.01702\n",
       "4                 0.5      0.49870           0.02109"
      ],
      "text/html": [
       "<div>\n",
       "<style scoped>\n",
       "    .dataframe tbody tr th:only-of-type {\n",
       "        vertical-align: middle;\n",
       "    }\n",
       "\n",
       "    .dataframe tbody tr th {\n",
       "        vertical-align: top;\n",
       "    }\n",
       "\n",
       "    .dataframe thead th {\n",
       "        text-align: right;\n",
       "    }\n",
       "</style>\n",
       "<table border=\"1\" class=\"dataframe\">\n",
       "  <thead>\n",
       "    <tr style=\"text-align: right;\">\n",
       "      <th></th>\n",
       "      <th>spd3303c_current_A</th>\n",
       "      <th>psx_4110_mA</th>\n",
       "      <th>keithley_195A_mV</th>\n",
       "    </tr>\n",
       "  </thead>\n",
       "  <tbody>\n",
       "    <tr>\n",
       "      <th>0</th>\n",
       "      <td>0.1</td>\n",
       "      <td>0.10090</td>\n",
       "      <td>0.00429</td>\n",
       "    </tr>\n",
       "    <tr>\n",
       "      <th>1</th>\n",
       "      <td>0.2</td>\n",
       "      <td>0.19880</td>\n",
       "      <td>0.00845</td>\n",
       "    </tr>\n",
       "    <tr>\n",
       "      <th>2</th>\n",
       "      <td>0.3</td>\n",
       "      <td>0.29630</td>\n",
       "      <td>0.01260</td>\n",
       "    </tr>\n",
       "    <tr>\n",
       "      <th>3</th>\n",
       "      <td>0.4</td>\n",
       "      <td>0.40225</td>\n",
       "      <td>0.01702</td>\n",
       "    </tr>\n",
       "    <tr>\n",
       "      <th>4</th>\n",
       "      <td>0.5</td>\n",
       "      <td>0.49870</td>\n",
       "      <td>0.02109</td>\n",
       "    </tr>\n",
       "  </tbody>\n",
       "</table>\n",
       "</div>"
      ]
     },
     "execution_count": 19,
     "metadata": {},
     "output_type": "execute_result"
    }
   ],
   "execution_count": 19
  },
  {
   "metadata": {
    "ExecuteTime": {
     "end_time": "2024-08-23T22:17:28.127657Z",
     "start_time": "2024-08-23T22:17:28.116172Z"
    }
   },
   "cell_type": "code",
   "source": "mod = smf.ols(formula='keithley_195A_mV ~ psx_4110_mA -1', data=shunt_pxi_df)",
   "id": "7c6203d351e00381",
   "outputs": [],
   "execution_count": 20
  },
  {
   "metadata": {
    "ExecuteTime": {
     "end_time": "2024-08-23T22:17:28.142962Z",
     "start_time": "2024-08-23T22:17:28.127657Z"
    }
   },
   "cell_type": "code",
   "source": [
    "res = mod.fit()\n",
    "print(res.summary())"
   ],
   "id": "2ebcdb5752893125",
   "outputs": [
    {
     "name": "stdout",
     "output_type": "stream",
     "text": [
      "                                 OLS Regression Results                                \n",
      "=======================================================================================\n",
      "Dep. Variable:       keithley_195A_mV   R-squared (uncentered):                   1.000\n",
      "Model:                            OLS   Adj. R-squared (uncentered):              1.000\n",
      "Method:                 Least Squares   F-statistic:                          3.445e+05\n",
      "Date:                Sat, 24 Aug 2024   Prob (F-statistic):                    6.34e-42\n",
      "Time:                        10:17:28   Log-Likelihood:                          129.17\n",
      "No. Observations:                  20   AIC:                                     -256.3\n",
      "Df Residuals:                      19   BIC:                                     -255.3\n",
      "Df Model:                           1                                                  \n",
      "Covariance Type:            nonrobust                                                  \n",
      "===============================================================================\n",
      "                  coef    std err          t      P>|t|      [0.025      0.975]\n",
      "-------------------------------------------------------------------------------\n",
      "psx_4110_mA     0.0426   7.27e-05    586.917      0.000       0.042       0.043\n",
      "==============================================================================\n",
      "Omnibus:                       43.259   Durbin-Watson:                   2.320\n",
      "Prob(Omnibus):                  0.000   Jarque-Bera (JB):              146.360\n",
      "Skew:                           3.443   Prob(JB):                     1.65e-32\n",
      "Kurtosis:                      14.323   Cond. No.                         1.00\n",
      "==============================================================================\n",
      "\n",
      "Notes:\n",
      "[1] R² is computed without centering (uncentered) since the model does not contain a constant.\n",
      "[2] Standard Errors assume that the covariance matrix of the errors is correctly specified.\n"
     ]
    }
   ],
   "execution_count": 21
  }
 ],
 "metadata": {
  "kernelspec": {
   "display_name": "Python 3",
   "language": "python",
   "name": "python3"
  },
  "language_info": {
   "codemirror_mode": {
    "name": "ipython",
    "version": 2
   },
   "file_extension": ".py",
   "mimetype": "text/x-python",
   "name": "python",
   "nbconvert_exporter": "python",
   "pygments_lexer": "ipython2",
   "version": "2.7.6"
  }
 },
 "nbformat": 4,
 "nbformat_minor": 5
}
